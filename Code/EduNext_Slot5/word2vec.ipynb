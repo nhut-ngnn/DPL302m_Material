{
 "cells": [
  {
   "cell_type": "code",
   "execution_count": 9,
   "metadata": {},
   "outputs": [],
   "source": [
    "from gensim.models import Word2Vec\n",
    "import numpy as np\n",
    "import pandas as pd\n",
    "from sklearn.model_selection import train_test_split\n",
    "from sklearn.ensemble import RandomForestRegressor\n",
    "from sklearn.metrics import mean_squared_error\n",
    "from sklearn.metrics import r2_score\n"
   ]
  },
  {
   "cell_type": "code",
   "execution_count": 2,
   "metadata": {},
   "outputs": [
    {
     "data": {
      "text/plain": [
       "Index(['Điện áp (V)', 'Year', 'Month', 'Day', 'Hour', 'Minute', 'DayOfWeek',\n",
       "       'DayOfYear', 'Quarter', 'IsWeekend', 'Season', 'Hour_sin', 'Hour_cos',\n",
       "       'Month_sin', 'Month_cos', 'TimeDifference_hours',\n",
       "       'TimeDifference_minutes', 'TimeDifference_hours_sin',\n",
       "       'TimeDifference_hours_cos', 'KMean_Cluster_YMD', 'KMean_Cluster_HM',\n",
       "       'KMean_Cluster_DoWY', 'KMean_Cluster_sincos', 'KMean_Cluster'],\n",
       "      dtype='object')"
      ]
     },
     "execution_count": 2,
     "metadata": {},
     "output_type": "execute_result"
    }
   ],
   "source": [
    "df= pd.read_csv('df_preprocess.csv')\n",
    "df.columns"
   ]
  },
  {
   "cell_type": "code",
   "execution_count": 3,
   "metadata": {},
   "outputs": [],
   "source": [
    "sentences = df.apply(lambda row: [\n",
    "    str(row['Year']),\n",
    "    str(row['Month']),\n",
    "    str(row['Day']),\n",
    "    str(row['Hour']),\n",
    "    str(row['Minute']),\n",
    "    str(row['DayOfWeek']),\n",
    "    str(row['DayOfYear']),\n",
    "    str(row['Quarter']),\n",
    "    str(row['IsWeekend']),\n",
    "    str(row['Season']),\n",
    "    str(row['Hour_sin']),\n",
    "    str(row['Hour_cos']),\n",
    "    str(row['Month_sin']),\n",
    "    str(row['Month_cos']),\n",
    "    str(row['TimeDifference_hours']),\n",
    "    str(row['TimeDifference_minutes']),\n",
    "    str(row['TimeDifference_hours_sin']),\n",
    "    str(row['TimeDifference_hours_cos']),\n",
    "    str(row['KMean_Cluster_YMD']),\n",
    "    str(row['KMean_Cluster_HM']),\n",
    "    str(row['KMean_Cluster_DoWY']),\n",
    "    str(row['KMean_Cluster_sincos']),\n",
    "    str(row['KMean_Cluster']),\n",
    "], axis=1).tolist()"
   ]
  },
  {
   "cell_type": "code",
   "execution_count": 10,
   "metadata": {},
   "outputs": [
    {
     "name": "stdout",
     "output_type": "stream",
     "text": [
      "Best R²: 0.12920673796697246\n",
      "Best Parameters: {'vector_size': 20, 'window': 10, 'sg': 1}\n"
     ]
    }
   ],
   "source": [
    "best_r2 = -np.inf\n",
    "best_params = {}\n",
    "\n",
    "for vector_size in [10, 15, 20]:\n",
    "    for window in [2, 5, 10]:\n",
    "        for sg in [0, 1]:\n",
    "            model = Word2Vec(sentences=sentences, vector_size=vector_size, window=window, min_count=1, sg=sg)\n",
    "            \n",
    "            def embed_sentence(sentence):\n",
    "                return np.mean([model.wv[word] for word in sentence], axis=0)\n",
    "            \n",
    "            embedded_sentences = np.array([embed_sentence(sentence) for sentence in sentences])\n",
    "            \n",
    "            df_word2vec = pd.DataFrame(embedded_sentences, columns=[f'vec_{i}' for i in range(embedded_sentences.shape[1])])\n",
    "            \n",
    "            df_combined = pd.concat([df_word2vec, df['Điện áp (V)']], axis=1)\n",
    "\n",
    "            X = df_combined.drop(columns=['Điện áp (V)'])\n",
    "            y = df_combined['Điện áp (V)']\n",
    "\n",
    "            X_train, X_test, y_train, y_test = train_test_split(X, y, test_size=0.2, random_state=42)\n",
    "            rf = RandomForestRegressor(n_estimators=100, random_state=42)\n",
    "            rf.fit(X_train, y_train)\n",
    "\n",
    "            y_pred = rf.predict(X_test)\n",
    "\n",
    "            r2 = r2_score(y_test, y_pred)\n",
    "            \n",
    "            if r2 > best_r2:\n",
    "                best_r2 = r2\n",
    "                best_params = {\n",
    "                    'vector_size': vector_size,\n",
    "                    'window': window,\n",
    "                    'sg': sg\n",
    "                }\n",
    "\n",
    "print(f\"Best R²: {best_r2}\")\n",
    "print(f\"Best Parameters: {best_params}\")"
   ]
  },
  {
   "cell_type": "code",
   "execution_count": 13,
   "metadata": {},
   "outputs": [],
   "source": [
    "from sklearn.model_selection import GridSearchCV\n",
    "\n",
    "def embed_sentence(sentence):\n",
    "    return np.mean([model.wv[word] for word in sentence if word in model.wv], axis=0)\n",
    "\n",
    "model = Word2Vec(sentences=sentences, vector_size=best_params['vector_size'], window=best_params['window'], sg=best_params['sg'])\n",
    "embedded_sentences = np.array([embed_sentence(sentence) for sentence in sentences])\n",
    "df_word2vec = pd.DataFrame(embedded_sentences, columns=[f'vec_{i}' for i in range(embedded_sentences.shape[1])])\n",
    "df_combined = pd.concat([df_word2vec, df['Điện áp (V)']], axis=1)\n",
    "\n",
    "X = df_combined.drop(columns=['Điện áp (V)'])\n",
    "y = df_combined['Điện áp (V)']\n",
    "\n",
    "X_train, X_test, y_train, y_test = train_test_split(X, y, test_size=0.2, random_state=42)\n",
    "\n",
    "param_grid = {\n",
    "    'n_estimators': [50, 100, 200],\n",
    "    'max_depth': [None, 10, 20, 30],\n",
    "    'min_samples_split': [2, 5, 10],\n",
    "    'min_samples_leaf': [1, 2, 4]\n",
    "}\n",
    "\n",
    "rf = RandomForestRegressor(random_state=42)\n",
    "\n",
    "grid_search = GridSearchCV(estimator=rf, param_grid=param_grid, cv=3, n_jobs=-1, scoring='r2')\n",
    "grid_search.fit(X_train, y_train)\n",
    "\n",
    "best_rf_model = grid_search.best_estimator_\n",
    "y_pred = best_rf_model.predict(X_test)\n",
    "best_r2_score = r2_score(y_test, y_pred)\n",
    "print(f\"Best R² after tuning Random Forest: {best_r2_score}\")\n"
   ]
  },
  {
   "cell_type": "code",
   "execution_count": null,
   "metadata": {},
   "outputs": [],
   "source": []
  }
 ],
 "metadata": {
  "kernelspec": {
   "display_name": "base",
   "language": "python",
   "name": "python3"
  },
  "language_info": {
   "codemirror_mode": {
    "name": "ipython",
    "version": 3
   },
   "file_extension": ".py",
   "mimetype": "text/x-python",
   "name": "python",
   "nbconvert_exporter": "python",
   "pygments_lexer": "ipython3",
   "version": "3.11.5"
  }
 },
 "nbformat": 4,
 "nbformat_minor": 2
}
